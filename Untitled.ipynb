{
 "cells": [
  {
   "cell_type": "code",
   "execution_count": null,
   "metadata": {},
   "outputs": [],
   "source": [
    "import numpy as np\n",
    "import pickle\n",
    "envName = 'Ant-v1'\n",
    "path = 'expert_pickles/'+envName+'.pickle'\n",
    "file = open(path,'rb')\n",
    "traj = pickle.load(file)\n",
    "episodes = []\n",
    "actions = []\n",
    "nextStates = []\n",
    "rewards = []\n",
    "terminals = []\n",
    "qpos=[]\n",
    "qvel=[]\n",
    "for step in trajii\n",
    "\n",
    "\n",
    "\n",
    "\n",
    "\n",
    "\n",
    "\n",
    "    "
   ]
  }
 ],
 "metadata": {
  "kernelspec": {
   "display_name": "Python 3",
   "language": "python",
   "name": "python3"
  },
  "language_info": {
   "codemirror_mode": {
    "name": "ipython",
    "version": 3
   },
   "file_extension": ".py",
   "mimetype": "text/x-python",
   "name": "python",
   "nbconvert_exporter": "python",
   "pygments_lexer": "ipython3",
   "version": "3.6.4"
  }
 },
 "nbformat": 4,
 "nbformat_minor": 2
}
